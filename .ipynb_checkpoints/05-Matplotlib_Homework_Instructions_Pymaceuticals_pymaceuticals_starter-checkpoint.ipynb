{
 "cells": [
  {
   "cell_type": "markdown",
   "metadata": {},
   "source": [
    "## Observations and Insights "
   ]
  },
  {
   "cell_type": "markdown",
   "metadata": {},
   "source": []
  },
  {
   "cell_type": "code",
   "execution_count": null,
   "metadata": {},
   "outputs": [],
   "source": [
    "# Dependencies and Setup\n",
    "import matplotlib.pyplot as plt\n",
    "import pandas as pd\n",
    "import scipy.stats as st\n",
    "\n",
    "# Study data files\n",
    "mouse_metadata_path = \"data/mouse_metadata.csv\"\n",
    "study_results_path = \"data/study_results.csv\"\n",
    "\n",
    "# Read the mouse data and the study results\n",
    "mouse_metadata = pd.read_csv(mouse_metadata_path)\n",
    "study_results = pd.read_csv(study_results_path)\n",
    "\n",
    "\n"
   ]
  },
  {
   "cell_type": "code",
   "execution_count": null,
   "metadata": {},
   "outputs": [],
   "source": [
    "# Combine the data into a single dataset\n",
    "combined_data = pd.merge(mouse_metadata, study_results,how='inner', on='Mouse ID')\n",
    "\n",
    "# Display the data table for preview\n",
    "combined_data.head()"
   ]
  },
  {
   "cell_type": "code",
   "execution_count": null,
   "metadata": {},
   "outputs": [],
   "source": [
    "# Checking the number of mice.\n",
    "combined_data['Mouse ID'].nunique()"
   ]
  },
  {
   "cell_type": "code",
   "execution_count": null,
   "metadata": {},
   "outputs": [],
   "source": [
    "# Getting the duplicate mice by ID number that shows up for Mouse ID and Timepoint. \n",
    "duplicate_mouseid_timepoint = combined_data[combined_data.duplicated(['Mouse ID', 'Timepoint'], keep=False)]\n",
    "duplicate_mouseid_timepoint"
   ]
  },
  {
   "cell_type": "code",
   "execution_count": null,
   "metadata": {
    "scrolled": true
   },
   "outputs": [],
   "source": [
    "# Create a clean DataFrame by dropping the duplicate mouse by its ID.\n",
    "dropped = combined_data[combined_data['Mouse ID'] == 'g989'].index\n",
    "clean_df = combined_data.drop(dropped)"
   ]
  },
  {
   "cell_type": "code",
   "execution_count": null,
   "metadata": {},
   "outputs": [],
   "source": [
    "# Checking the number of mice in the clean DataFrame.\n",
    "clean_df['Mouse ID'].nunique()"
   ]
  },
  {
   "cell_type": "markdown",
   "metadata": {},
   "source": [
    "## Summary Statistics"
   ]
  },
  {
   "cell_type": "code",
   "execution_count": null,
   "metadata": {},
   "outputs": [],
   "source": [
    "# Generate a summary statistics table of mean, median, variance, standard deviation, and SEM of the tumor volume for each regimen\n",
    "regimen_stats = clean_df.groupby('Drug Regimen')['Tumor Volume (mm3)'].describe()\n",
    "regiment_var = clean_df.groupby('Drug Regimen')['Tumor Volume (mm3)'].var()\n",
    "regimen_stats['variance'] = regiment_var\n",
    "regimen_sem = clean_df.groupby('Drug Regimen')['Tumor Volume (mm3)'].sem()\n",
    "regimen_stats['SEM'] = regimen_sem\n",
    "reg_stats = regimen_stats.drop(columns=['count','min','25%','75%','max'])\n",
    "reg_final = reg_stats.rename(columns={'50%':'median','std':'standard deviation'})\n",
    "reg_final = reg_final[['mean', 'median','variance','standard deviation','SEM']]\n",
    "reg_final"
   ]
  },
  {
   "cell_type": "code",
   "execution_count": null,
   "metadata": {},
   "outputs": [],
   "source": [
    "# Generate a summary statistics table of mean, median, variance, standard deviation, and SEM of the tumor volume for each regimen\n",
    "# Using the aggregation method, produce the same summary statistics in a single line\n",
    "reg_agg = clean_df.groupby('Drug Regimen').agg({'Tumor Volume (mm3)': ['mean','median','var','std', 'sem']})\n",
    "reg_agg"
   ]
  },
  {
   "cell_type": "markdown",
   "metadata": {},
   "source": [
    "## Bar and Pie Charts"
   ]
  },
  {
   "cell_type": "code",
   "execution_count": null,
   "metadata": {},
   "outputs": [],
   "source": [
    "# Generate a bar plot showing the total number of measurements taken on each drug regimen using pandas.\n",
    "total_regimen = clean_df['Drug Regimen'].value_counts()\n",
    "regimen_count_df = pd.DataFrame(total_regimen)\n",
    "regimen_count_df.rename(columns={'Drug Regimen':'Total'},inplace=True)\n",
    "regimen_count_df.index.name = 'Drug Regimen' "
   ]
  },
  {
   "cell_type": "code",
   "execution_count": null,
   "metadata": {},
   "outputs": [],
   "source": [
    "reg_bar = regimen_count_df.plot.bar(stacked=True)\n",
    "reg_bar.set_ylabel('Total')"
   ]
  },
  {
   "cell_type": "code",
   "execution_count": null,
   "metadata": {},
   "outputs": [],
   "source": [
    "# Generate a bar plot showing the total number of measurements taken on each drug regimen using pyplot.\n",
    "drug_regimen = regimen_count_df.index\n",
    "drug_total = regimen_count_df['Total'].values.tolist()\n",
    "plt.bar(drug_regimen , drug_total, color ='b', alpha = 0.5, align = 'center')\n",
    "plt.xticks(rotation=90)\n",
    "plt.xlabel('Drug Regimen')\n",
    "plt.ylabel('Total')"
   ]
  },
  {
   "cell_type": "code",
   "execution_count": null,
   "metadata": {},
   "outputs": [],
   "source": [
    "# Generate a pie plot showing the distribution of female versus male mice using pandas\n",
    "gender_distribution = clean_df['Sex'].value_counts()\n",
    "gend_dis = pd.DataFrame(gender_distribution)\n",
    "gend_dis.rename(columns={'Sex':'Total'},inplace=True)\n",
    "gend_dis.index.name = 'Gender' \n",
    "gend_pie = gend_dis.plot.pie(y='Total', stacked=True, autopct='%1.1f%%', colors = ['blue','orange'])\n",
    "gend_dis"
   ]
  },
  {
   "cell_type": "code",
   "execution_count": null,
   "metadata": {},
   "outputs": [],
   "source": [
    "# Generate a pie plot showing the distribution of female versus male mice using pyplot\n",
    "gender_label = clean_df['Sex'].unique()\n",
    "gender_count = gend_dis['Total'].values.tolist()\n",
    "plt.pie(gender_count, labels = gender_label, autopct='%1.1f%%', colors = ['blue','orange'])"
   ]
  },
  {
   "cell_type": "markdown",
   "metadata": {},
   "source": [
    "## Quartiles, Outliers and Boxplots"
   ]
  },
  {
   "cell_type": "code",
   "execution_count": null,
   "metadata": {},
   "outputs": [],
   "source": [
    "# Calculate the final tumor volume of each mouse across four of the treatment regimens:  \n",
    "# Capomulin, Ramicane, Infubinol, and Ceftamin\n",
    "timepoint_max = clean_df[clean_df.groupby(['Mouse ID'])['Timepoint'].transform(max) == clean_df['Timepoint']]\n",
    "\n",
    "clean_final = timepoint_max[~timepoint_max['Drug Regimen'].isin(['Placebo', 'Stelasyn', 'Zoniferol', 'Ketapril', 'Propriva', 'Naftisol'])]\n",
    "clean_final[['Mouse ID', 'Drug Regimen','Timepoint' ,'Tumor Volume (mm3)']]"
   ]
  },
  {
   "cell_type": "code",
   "execution_count": null,
   "metadata": {},
   "outputs": [],
   "source": [
    "# Calculate the quartiles and IQR and quantitatively determine if there are any potential outliers across all four treatment regimens."
   ]
  },
  {
   "cell_type": "code",
   "execution_count": null,
   "metadata": {},
   "outputs": [],
   "source": [
    "# Create seperate dataframe for Capomulin\n",
    "capomulin = clean_final.groupby(['Drug Regimen'])\n",
    "capomulin_df = capomulin.get_group('Capomulin')"
   ]
  },
  {
   "cell_type": "code",
   "execution_count": null,
   "metadata": {},
   "outputs": [],
   "source": [
    "# Create seperate dataframe for Ceftamin \n",
    "ceftamin = clean_final.groupby(['Drug Regimen'])\n",
    "ceftamin_df = capomulin.get_group('Ceftamin')"
   ]
  },
  {
   "cell_type": "code",
   "execution_count": null,
   "metadata": {},
   "outputs": [],
   "source": [
    "# Create seperate dataframe for Infubinol \n",
    "infubinol = clean_final.groupby(['Drug Regimen'])\n",
    "infubinol_df = capomulin.get_group('Infubinol')\n"
   ]
  },
  {
   "cell_type": "code",
   "execution_count": null,
   "metadata": {},
   "outputs": [],
   "source": [
    "# Create seperate dataframe for Ramicane \n",
    "ramicane = clean_final.groupby(['Drug Regimen'])\n",
    "ramicane_df = capomulin.get_group('Ramicane')"
   ]
  },
  {
   "cell_type": "code",
   "execution_count": null,
   "metadata": {},
   "outputs": [],
   "source": [
    "# Create seperate dataframe for Ramicane \n",
    "ramicane = clean_final.groupby(['Drug Regimen'])\n",
    "ramicane_df = capomulin.get_group('Ramicane')"
   ]
  },
  {
   "cell_type": "code",
   "execution_count": null,
   "metadata": {},
   "outputs": [],
   "source": [
    "# Find lower quartiles of every drug \n",
    "q1 = clean_final.groupby('Drug Regimen')['Tumor Volume (mm3)'].quantile(0.25)\n",
    "q1"
   ]
  },
  {
   "cell_type": "code",
   "execution_count": null,
   "metadata": {},
   "outputs": [],
   "source": [
    "# Find upper quartiles of every drug \n",
    "q3 = clean_final.groupby('Drug Regimen')['Tumor Volume (mm3)'].quantile(0.75)\n",
    "q3"
   ]
  },
  {
   "cell_type": "code",
   "execution_count": null,
   "metadata": {},
   "outputs": [],
   "source": [
    "# Find the IQR of every drug \n",
    "IQR = q3 - q1 \n",
    "IQR"
   ]
  },
  {
   "cell_type": "code",
   "execution_count": null,
   "metadata": {},
   "outputs": [],
   "source": [
    "# Determine if there are any potential outliers in Capomulin\n",
    "capomulin_outlier_lower = q1[0] - (1.5*IQR[0])\n",
    "capomulin_outlier_upper = q3[0] + (1.5*IQR[0])\n",
    "capomulin_filt = [(capomulin_df['Tumor Volume (mm3)'] < capomulin_outlier_lower) | (capomulin_df['Tumor Volume (mm3)'] > capomulin_outlier_upper)]\n",
    "cap_count_df = pd.DataFrame(capomulin_outlier)\n",
    "cap_count_dft = cap_count_df.T\n",
    "cap_count_dft['Tumor Volume (mm3)'].value_counts()\n",
    "cap_out_count = (cap_count_dft['Tumor Volume (mm3)']).values.sum()"
   ]
  },
  {
   "cell_type": "code",
   "execution_count": null,
   "metadata": {},
   "outputs": [],
   "source": [
    "# Print capomulin result \n",
    "print(f'Values below {capomulin_outlier_lower} could be outliers.')\n",
    "print(f'Values above {capomulin_outlier_upper} could be outliers.')\n",
    "print(f'There could be {cap_out_count} outlier(s) in this dataset')"
   ]
  },
  {
   "cell_type": "code",
   "execution_count": null,
   "metadata": {},
   "outputs": [],
   "source": [
    "# Determine if there are any potential outliers in Ceftamin\n",
    "ceftamin_outlier_lower = q1[1] - (1.5*IQR[1])\n",
    "ceftamin_outlier_upper = q3[1] + (1.5*IQR[1])\n",
    "ceftamin_filt = (ceftamin_df['Tumor Volume (mm3)'] < ceftamin_outlier_lower) | (ceftamin_df['Tumor Volume (mm3)'] > ceftamin_outlier_upper)\n",
    "cef_count_df = pd.DataFrame(ceftamin_filt)\n",
    "cef_count_df['Tumor Volume (mm3)'].value_counts()\n",
    "cef_out_count = (cef_count_df['Tumor Volume (mm3)']).values.sum()"
   ]
  },
  {
   "cell_type": "code",
   "execution_count": null,
   "metadata": {},
   "outputs": [],
   "source": [
    "# Print ceftamin result \n",
    "print(f'Values below {ceftamin_outlier_lower} could be outliers.')\n",
    "print(f'Values above {ceftamin_outlier_upper} could be outliers.')\n",
    "print(f'There could be {cef_out_count} outlier(s) in this dataset')"
   ]
  },
  {
   "cell_type": "code",
   "execution_count": null,
   "metadata": {},
   "outputs": [],
   "source": [
    "# Determine if there are any potential outliers in Infubinol\n",
    "infubinol_outlier_lower = q1[2] - (1.5*IQR[2])\n",
    "infubinol_outlier_upper = q3[2] + (1.5*IQR[2])\n",
    "infubinol_filt = (infubinol_df['Tumor Volume (mm3)'] < infubinol_outlier_lower) | (infubinol_df['Tumor Volume (mm3)'] > infubinol_outlier_upper)\n",
    "inf_count_df = pd.DataFrame(infubinol_filt)\n",
    "inf_count_df['Tumor Volume (mm3)'].value_counts()\n",
    "inf_out_count = (inf_count_df['Tumor Volume (mm3)']).values.sum()\n"
   ]
  },
  {
   "cell_type": "code",
   "execution_count": null,
   "metadata": {},
   "outputs": [],
   "source": [
    "# Print infubinol result \n",
    "print(f'Values below {infubinol_outlier_lower} could be outliers.')\n",
    "print(f'Values above {infubinol_outlier_upper} could be outliers.')\n",
    "print(f'There could be {inf_out_count} outlier(s) in this dataset')\n",
    "infubinol_df[infubinol_filt]"
   ]
  },
  {
   "cell_type": "code",
   "execution_count": null,
   "metadata": {},
   "outputs": [],
   "source": [
    "# Determine if there are any potential outliers in Ramicane\n",
    "ramicane_outlier_lower = q1[3] - (1.5*IQR[3])\n",
    "ramicane_outlier_upper = q3[3] + (1.5*IQR[3])\n",
    "ramicane_outlier = [(ramicane_df['Tumor Volume (mm3)'] < ramicane_outlier_lower) | (ramicane_df['Tumor Volume (mm3)'] > ramicane_outlier_upper)]\n",
    "ram_count_df = pd.DataFrame(ramicane_outlier)\n",
    "ram_count_dft = ram_count_df.T\n",
    "ram_count_dft['Tumor Volume (mm3)'].value_counts()\n",
    "ram_out_count = (ram_count_dft['Tumor Volume (mm3)']).values.sum()\n",
    "print(f'Values below {ramicane_outlier_lower} could be outliers.')\n",
    "print(f'Values above {ramicane_outlier_upper} could be outliers.')\n",
    "print(f'There could be {ram_out_count} outlier(s) in this dataset')\n"
   ]
  },
  {
   "cell_type": "code",
   "execution_count": null,
   "metadata": {},
   "outputs": [],
   "source": []
  },
  {
   "cell_type": "code",
   "execution_count": null,
   "metadata": {},
   "outputs": [],
   "source": [
    "# Generate a box plot of the final tumor volume of each mouse across four regimens of interest\n"
   ]
  },
  {
   "cell_type": "markdown",
   "metadata": {},
   "source": [
    "## Line and Scatter Plots"
   ]
  },
  {
   "cell_type": "code",
   "execution_count": null,
   "metadata": {},
   "outputs": [],
   "source": [
    "# Generate a line plot of tumor volume vs. time point for a mouse treated with Capomulin\n"
   ]
  },
  {
   "cell_type": "code",
   "execution_count": null,
   "metadata": {},
   "outputs": [],
   "source": [
    "# Generate a scatter plot of average tumor volume vs. mouse weight for the Capomulin regimen\n"
   ]
  },
  {
   "cell_type": "markdown",
   "metadata": {},
   "source": [
    "## Correlation and Regression"
   ]
  },
  {
   "cell_type": "code",
   "execution_count": null,
   "metadata": {},
   "outputs": [],
   "source": [
    "# Calculate the correlation coefficient and linear regression model \n",
    "# for mouse weight and average tumor volume for the Capomulin regimen\n"
   ]
  },
  {
   "cell_type": "code",
   "execution_count": null,
   "metadata": {},
   "outputs": [],
   "source": []
  }
 ],
 "metadata": {
  "anaconda-cloud": {},
  "kernelspec": {
   "display_name": "Python 3",
   "language": "python",
   "name": "python3"
  },
  "language_info": {
   "codemirror_mode": {
    "name": "ipython",
    "version": 3
   },
   "file_extension": ".py",
   "mimetype": "text/x-python",
   "name": "python",
   "nbconvert_exporter": "python",
   "pygments_lexer": "ipython3",
   "version": "3.6.10"
  }
 },
 "nbformat": 4,
 "nbformat_minor": 4
}
